{
 "cells": [
  {
   "cell_type": "markdown",
   "metadata": {},
   "source": [
    "# Loan Data Analysis & Prediction"
   ]
  },
  {
   "cell_type": "markdown",
   "metadata": {},
   "source": [
    "### Importing Packages"
   ]
  },
  {
   "cell_type": "code",
   "execution_count": 1,
   "metadata": {},
   "outputs": [],
   "source": [
    "import pandas as pd\n",
    "import numpy as np\n",
    "import matplotlib.pyplot as plt\n",
    "import seaborn as sns\n",
    "sns.color_palette(\"tab10\")\n",
    "\n",
    "import warnings\n",
    "warnings.filterwarnings('ignore')"
   ]
  },
  {
   "cell_type": "code",
   "execution_count": 2,
   "metadata": {},
   "outputs": [],
   "source": [
    "df=pd.read_csv(\"loan_data.csv\")"
   ]
  },
  {
   "cell_type": "code",
   "execution_count": 3,
   "metadata": {},
   "outputs": [
    {
     "name": "stdout",
     "output_type": "stream",
     "text": [
      "<class 'pandas.core.frame.DataFrame'>\n",
      "RangeIndex: 25257 entries, 0 to 25256\n",
      "Data columns (total 19 columns):\n",
      " #   Column                        Non-Null Count  Dtype  \n",
      "---  ------                        --------------  -----  \n",
      " 0   Loan Status                   25257 non-null  object \n",
      " 1   Current Loan Amount           25257 non-null  int64  \n",
      " 2   Term                          25257 non-null  object \n",
      " 3   Credit Score                  25257 non-null  float64\n",
      " 4   Annual Income                 25257 non-null  int64  \n",
      " 5   Years in current job          25257 non-null  object \n",
      " 6   Home Ownership                25257 non-null  object \n",
      " 7   Purpose                       25257 non-null  object \n",
      " 8   Monthly Debt                  25257 non-null  float64\n",
      " 9   Years of Credit History       25257 non-null  float64\n",
      " 10  Months since last delinquent  25257 non-null  int64  \n",
      " 11  Number of Open Accounts       25257 non-null  int64  \n",
      " 12  Number of Credit Problems     25257 non-null  int64  \n",
      " 13  Current Credit Balance        25257 non-null  float64\n",
      " 14  Maximum Open Credit           25257 non-null  int64  \n",
      " 15  Bankruptcies                  25257 non-null  int64  \n",
      " 16  Tax Liens                     25257 non-null  int64  \n",
      " 17  Loan ID                       25257 non-null  object \n",
      " 18  Customer ID                   25257 non-null  object \n",
      "dtypes: float64(4), int64(8), object(7)\n",
      "memory usage: 3.7+ MB\n"
     ]
    }
   ],
   "source": [
    "df.info()"
   ]
  },
  {
   "cell_type": "code",
   "execution_count": 4,
   "metadata": {},
   "outputs": [
    {
     "data": {
      "text/html": [
       "<div>\n",
       "<style scoped>\n",
       "    .dataframe tbody tr th:only-of-type {\n",
       "        vertical-align: middle;\n",
       "    }\n",
       "\n",
       "    .dataframe tbody tr th {\n",
       "        vertical-align: top;\n",
       "    }\n",
       "\n",
       "    .dataframe thead th {\n",
       "        text-align: right;\n",
       "    }\n",
       "</style>\n",
       "<table border=\"1\" class=\"dataframe\">\n",
       "  <thead>\n",
       "    <tr style=\"text-align: right;\">\n",
       "      <th></th>\n",
       "      <th>Current Loan Amount</th>\n",
       "      <th>Credit Score</th>\n",
       "      <th>Annual Income</th>\n",
       "      <th>Monthly Debt</th>\n",
       "      <th>Years of Credit History</th>\n",
       "      <th>Months since last delinquent</th>\n",
       "      <th>Number of Open Accounts</th>\n",
       "      <th>Number of Credit Problems</th>\n",
       "      <th>Current Credit Balance</th>\n",
       "      <th>Maximum Open Credit</th>\n",
       "      <th>Bankruptcies</th>\n",
       "      <th>Tax Liens</th>\n",
       "    </tr>\n",
       "  </thead>\n",
       "  <tbody>\n",
       "    <tr>\n",
       "      <th>count</th>\n",
       "      <td>25257.000000</td>\n",
       "      <td>25257.000000</td>\n",
       "      <td>2.525700e+04</td>\n",
       "      <td>25257.000000</td>\n",
       "      <td>25257.000000</td>\n",
       "      <td>25257.000000</td>\n",
       "      <td>25257.000000</td>\n",
       "      <td>25257.000000</td>\n",
       "      <td>2.525700e+04</td>\n",
       "      <td>2.525700e+04</td>\n",
       "      <td>25257.000000</td>\n",
       "      <td>25257.000000</td>\n",
       "    </tr>\n",
       "    <tr>\n",
       "      <th>mean</th>\n",
       "      <td>283630.014570</td>\n",
       "      <td>888.397403</td>\n",
       "      <td>1.139753e+06</td>\n",
       "      <td>16663.211394</td>\n",
       "      <td>18.514238</td>\n",
       "      <td>35.449182</td>\n",
       "      <td>7.568001</td>\n",
       "      <td>0.190640</td>\n",
       "      <td>1.974247e+05</td>\n",
       "      <td>5.857706e+05</td>\n",
       "      <td>0.124678</td>\n",
       "      <td>0.032545</td>\n",
       "    </tr>\n",
       "    <tr>\n",
       "      <th>std</th>\n",
       "      <td>163114.637162</td>\n",
       "      <td>891.437247</td>\n",
       "      <td>3.714070e+05</td>\n",
       "      <td>8851.486001</td>\n",
       "      <td>6.469755</td>\n",
       "      <td>21.927497</td>\n",
       "      <td>4.185578</td>\n",
       "      <td>0.520983</td>\n",
       "      <td>1.944974e+05</td>\n",
       "      <td>6.500274e+06</td>\n",
       "      <td>0.371327</td>\n",
       "      <td>0.273937</td>\n",
       "    </tr>\n",
       "    <tr>\n",
       "      <th>min</th>\n",
       "      <td>21450.000000</td>\n",
       "      <td>351.000000</td>\n",
       "      <td>1.112450e+05</td>\n",
       "      <td>0.000000</td>\n",
       "      <td>3.800000</td>\n",
       "      <td>0.000000</td>\n",
       "      <td>1.000000</td>\n",
       "      <td>0.000000</td>\n",
       "      <td>0.000000e+00</td>\n",
       "      <td>0.000000e+00</td>\n",
       "      <td>0.000000</td>\n",
       "      <td>0.000000</td>\n",
       "    </tr>\n",
       "    <tr>\n",
       "      <th>25%</th>\n",
       "      <td>158356.000000</td>\n",
       "      <td>675.000000</td>\n",
       "      <td>8.524730e+05</td>\n",
       "      <td>10338.660000</td>\n",
       "      <td>14.100000</td>\n",
       "      <td>17.000000</td>\n",
       "      <td>5.000000</td>\n",
       "      <td>0.000000</td>\n",
       "      <td>8.080320e+04</td>\n",
       "      <td>2.311100e+05</td>\n",
       "      <td>0.000000</td>\n",
       "      <td>0.000000</td>\n",
       "    </tr>\n",
       "    <tr>\n",
       "      <th>50%</th>\n",
       "      <td>258148.000000</td>\n",
       "      <td>714.000000</td>\n",
       "      <td>1.128372e+06</td>\n",
       "      <td>15582.660000</td>\n",
       "      <td>17.200000</td>\n",
       "      <td>32.000000</td>\n",
       "      <td>7.000000</td>\n",
       "      <td>0.000000</td>\n",
       "      <td>1.490892e+05</td>\n",
       "      <td>3.832400e+05</td>\n",
       "      <td>0.000000</td>\n",
       "      <td>0.000000</td>\n",
       "    </tr>\n",
       "    <tr>\n",
       "      <th>75%</th>\n",
       "      <td>383240.000000</td>\n",
       "      <td>734.000000</td>\n",
       "      <td>1.421732e+06</td>\n",
       "      <td>21851.710000</td>\n",
       "      <td>21.700000</td>\n",
       "      <td>52.000000</td>\n",
       "      <td>9.000000</td>\n",
       "      <td>0.000000</td>\n",
       "      <td>2.559680e+05</td>\n",
       "      <td>6.209060e+05</td>\n",
       "      <td>0.000000</td>\n",
       "      <td>0.000000</td>\n",
       "    </tr>\n",
       "    <tr>\n",
       "      <th>max</th>\n",
       "      <td>789096.000000</td>\n",
       "      <td>4506.000000</td>\n",
       "      <td>1.892913e+06</td>\n",
       "      <td>61734.990000</td>\n",
       "      <td>70.500000</td>\n",
       "      <td>176.000000</td>\n",
       "      <td>41.000000</td>\n",
       "      <td>15.000000</td>\n",
       "      <td>6.317956e+06</td>\n",
       "      <td>7.982554e+08</td>\n",
       "      <td>6.000000</td>\n",
       "      <td>15.000000</td>\n",
       "    </tr>\n",
       "  </tbody>\n",
       "</table>\n",
       "</div>"
      ],
      "text/plain": [
       "       Current Loan Amount  Credit Score  Annual Income  Monthly Debt  \\\n",
       "count         25257.000000  25257.000000   2.525700e+04  25257.000000   \n",
       "mean         283630.014570    888.397403   1.139753e+06  16663.211394   \n",
       "std          163114.637162    891.437247   3.714070e+05   8851.486001   \n",
       "min           21450.000000    351.000000   1.112450e+05      0.000000   \n",
       "25%          158356.000000    675.000000   8.524730e+05  10338.660000   \n",
       "50%          258148.000000    714.000000   1.128372e+06  15582.660000   \n",
       "75%          383240.000000    734.000000   1.421732e+06  21851.710000   \n",
       "max          789096.000000   4506.000000   1.892913e+06  61734.990000   \n",
       "\n",
       "       Years of Credit History  Months since last delinquent  \\\n",
       "count             25257.000000                  25257.000000   \n",
       "mean                 18.514238                     35.449182   \n",
       "std                   6.469755                     21.927497   \n",
       "min                   3.800000                      0.000000   \n",
       "25%                  14.100000                     17.000000   \n",
       "50%                  17.200000                     32.000000   \n",
       "75%                  21.700000                     52.000000   \n",
       "max                  70.500000                    176.000000   \n",
       "\n",
       "       Number of Open Accounts  Number of Credit Problems  \\\n",
       "count             25257.000000               25257.000000   \n",
       "mean                  7.568001                   0.190640   \n",
       "std                   4.185578                   0.520983   \n",
       "min                   1.000000                   0.000000   \n",
       "25%                   5.000000                   0.000000   \n",
       "50%                   7.000000                   0.000000   \n",
       "75%                   9.000000                   0.000000   \n",
       "max                  41.000000                  15.000000   \n",
       "\n",
       "       Current Credit Balance  Maximum Open Credit  Bankruptcies     Tax Liens  \n",
       "count            2.525700e+04         2.525700e+04  25257.000000  25257.000000  \n",
       "mean             1.974247e+05         5.857706e+05      0.124678      0.032545  \n",
       "std              1.944974e+05         6.500274e+06      0.371327      0.273937  \n",
       "min              0.000000e+00         0.000000e+00      0.000000      0.000000  \n",
       "25%              8.080320e+04         2.311100e+05      0.000000      0.000000  \n",
       "50%              1.490892e+05         3.832400e+05      0.000000      0.000000  \n",
       "75%              2.559680e+05         6.209060e+05      0.000000      0.000000  \n",
       "max              6.317956e+06         7.982554e+08      6.000000     15.000000  "
      ]
     },
     "execution_count": 4,
     "metadata": {},
     "output_type": "execute_result"
    }
   ],
   "source": [
    "df.describe()"
   ]
  },
  {
   "cell_type": "code",
   "execution_count": 5,
   "metadata": {},
   "outputs": [
    {
     "data": {
      "text/plain": [
       "Loan Status                     0\n",
       "Current Loan Amount             0\n",
       "Term                            0\n",
       "Credit Score                    0\n",
       "Annual Income                   0\n",
       "Years in current job            0\n",
       "Home Ownership                  0\n",
       "Purpose                         0\n",
       "Monthly Debt                    0\n",
       "Years of Credit History         0\n",
       "Months since last delinquent    0\n",
       "Number of Open Accounts         0\n",
       "Number of Credit Problems       0\n",
       "Current Credit Balance          0\n",
       "Maximum Open Credit             0\n",
       "Bankruptcies                    0\n",
       "Tax Liens                       0\n",
       "Loan ID                         0\n",
       "Customer ID                     0\n",
       "dtype: int64"
      ]
     },
     "execution_count": 5,
     "metadata": {},
     "output_type": "execute_result"
    }
   ],
   "source": [
    "df.isnull().sum()"
   ]
  },
  {
   "cell_type": "code",
   "execution_count": 6,
   "metadata": {},
   "outputs": [
    {
     "data": {
      "text/plain": [
       "Index(['Loan Status', 'Current Loan Amount', 'Term', 'Credit Score',\n",
       "       'Annual Income', 'Years in current job', 'Home Ownership', 'Purpose',\n",
       "       'Monthly Debt', 'Years of Credit History',\n",
       "       'Months since last delinquent', 'Number of Open Accounts',\n",
       "       'Number of Credit Problems', 'Current Credit Balance',\n",
       "       'Maximum Open Credit', 'Bankruptcies', 'Tax Liens', 'Loan ID',\n",
       "       'Customer ID'],\n",
       "      dtype='object')"
      ]
     },
     "execution_count": 6,
     "metadata": {},
     "output_type": "execute_result"
    }
   ],
   "source": [
    "df.columns"
   ]
  },
  {
   "cell_type": "markdown",
   "metadata": {},
   "source": [
    "## High level view of Data Insigts"
   ]
  },
  {
   "cell_type": "code",
   "execution_count": 7,
   "metadata": {},
   "outputs": [
    {
     "data": {
      "image/png": "[encoded data removed]",
      "text/plain": [
       "<Figure size 1008x432 with 1 Axes>"
      ]
     },
     "metadata": {
      "needs_background": "light"
     },
     "output_type": "display_data"
    }
   ],
   "source": [
    "plt.figure(figsize=(14,6))\n",
    "sns.countplot(y ='Term', data = df,hue='Loan Status') \n",
    "plt.grid(alpha=0.4)"
   ]
  },
  {
   "cell_type": "code",
   "execution_count": 8,
   "metadata": {},
   "outputs": [
    {
     "data": {
      "image/png": "[encoded data removed]",
      "text/plain": [
       "<Figure size 1008x432 with 1 Axes>"
      ]
     },
     "metadata": {
      "needs_background": "light"
     },
     "output_type": "display_data"
    }
   ],
   "source": [
    "plt.figure(figsize=(14,6))\n",
    "sns.countplot(y ='Years in current job', data = df,hue='Loan Status') \n",
    "plt.grid(alpha=0.4)"
   ]
  },
  {
   "cell_type": "code",
   "execution_count": 9,
   "metadata": {},
   "outputs": [
    {
     "data": {
      "image/png": "[encoded data removed]",
      "text/plain": [
       "<Figure size 1008x432 with 1 Axes>"
      ]
     },
     "metadata": {
      "needs_background": "light"
     },
     "output_type": "display_data"
    }
   ],
   "source": [
    "plt.figure(figsize=(14,6))\n",
    "sns.countplot(y ='Home Ownership', data = df,hue='Loan Status') \n",
    "plt.grid(alpha=0.4)"
   ]
  },
  {
   "cell_type": "code",
   "execution_count": 10,
   "metadata": {},
   "outputs": [
    {
     "data": {
      "image/png": "[encoded data removed]",
      "text/plain": [
       "<Figure size 1008x432 with 1 Axes>"
      ]
     },
     "metadata": {
      "needs_background": "light"
     },
     "output_type": "display_data"
    }
   ],
   "source": [
    "plt.figure(figsize=(14,6))\n",
    "sns.countplot(y ='Purpose', data = df,hue='Loan Status') \n",
    "plt.grid(alpha=0.4)"
   ]
  },
  {
   "cell_type": "code",
   "execution_count": 11,
   "metadata": {},
   "outputs": [],
   "source": [
    "df.drop(['Loan ID','Customer ID'], axis=1, inplace=True)"
   ]
  },
  {
   "cell_type": "code",
   "execution_count": 12,
   "metadata": {},
   "outputs": [
    {
     "name": "stdout",
     "output_type": "stream",
     "text": [
      "0.05     563084.0\n",
      "0.80    1496398.2\n",
      "Name: Annual Income, dtype: float64\n"
     ]
    }
   ],
   "source": [
    "low = .05\n",
    "high = .80\n",
    "temp = df['Annual Income'].quantile([low, high])\n",
    "print(temp)"
   ]
  },
  {
   "cell_type": "code",
   "execution_count": 13,
   "metadata": {},
   "outputs": [
    {
     "data": {
      "text/plain": [
       "{'whiskers': [<matplotlib.lines.Line2D at 0x7fd04847a7d0>,\n",
       "  <matplotlib.lines.Line2D at 0x7fd04847ad10>],\n",
       " 'caps': [<matplotlib.lines.Line2D at 0x7fd057e2d290>,\n",
       "  <matplotlib.lines.Line2D at 0x7fd057e2d7d0>],\n",
       " 'boxes': [<matplotlib.lines.Line2D at 0x7fd04847a250>],\n",
       " 'medians': [<matplotlib.lines.Line2D at 0x7fd057e2dd50>],\n",
       " 'fliers': [<matplotlib.lines.Line2D at 0x7fd057e052d0>],\n",
       " 'means': []}"
      ]
     },
     "execution_count": 13,
     "metadata": {},
     "output_type": "execute_result"
    },
    {
     "data": {
      "image/png": "[encoded data removed]",
      "text/plain": [
       "<Figure size 432x288 with 1 Axes>"
      ]
     },
     "metadata": {
      "needs_background": "light"
     },
     "output_type": "display_data"
    }
   ],
   "source": [
    "plt.boxplot(df['Current Loan Amount'])"
   ]
  },
  {
   "cell_type": "code",
   "execution_count": 14,
   "metadata": {},
   "outputs": [],
   "source": [
    "df = df[df['Current Loan Amount'] !=  99999999]"
   ]
  },
  {
   "cell_type": "markdown",
   "metadata": {},
   "source": [
    "## Loan Amount Distribution"
   ]
  },
  {
   "cell_type": "code",
   "execution_count": 15,
   "metadata": {},
   "outputs": [
    {
     "name": "stdout",
     "output_type": "stream",
     "text": [
      "Average Current Loan Amount = Rs 283630.01\n"
     ]
    }
   ],
   "source": [
    "print(\"Average Current Loan Amount = Rs\",round(df['Current Loan Amount'].mean(),2))"
   ]
  },
  {
   "cell_type": "code",
   "execution_count": 16,
   "metadata": {},
   "outputs": [
    {
     "data": {
      "image/png": "[encoded data removed]",
      "text/plain": [
       "<Figure size 1152x432 with 1 Axes>"
      ]
     },
     "metadata": {
      "needs_background": "light"
     },
     "output_type": "display_data"
    }
   ],
   "source": [
    "plt.figure(figsize=(16,6))\n",
    "plt.hist(df['Current Loan Amount'])\n",
    "plt.grid(alpha=0.4)"
   ]
  },
  {
   "cell_type": "code",
   "execution_count": 17,
   "metadata": {},
   "outputs": [
    {
     "data": {
      "text/plain": [
       "{'whiskers': [<matplotlib.lines.Line2D at 0x7fd057d0e250>,\n",
       "  <matplotlib.lines.Line2D at 0x7fd057d0e790>],\n",
       " 'caps': [<matplotlib.lines.Line2D at 0x7fd057d0ecd0>,\n",
       "  <matplotlib.lines.Line2D at 0x7fd057d15250>],\n",
       " 'boxes': [<matplotlib.lines.Line2D at 0x7fd057d08cd0>],\n",
       " 'medians': [<matplotlib.lines.Line2D at 0x7fd057d157d0>],\n",
       " 'fliers': [<matplotlib.lines.Line2D at 0x7fd057d15d10>],\n",
       " 'means': []}"
      ]
     },
     "execution_count": 17,
     "metadata": {},
     "output_type": "execute_result"
    },
    {
     "data": {
      "image/png": "[encoded data removed]",
      "text/plain": [
       "<Figure size 432x288 with 1 Axes>"
      ]
     },
     "metadata": {
      "needs_background": "light"
     },
     "output_type": "display_data"
    }
   ],
   "source": [
    "plt.boxplot(df['Annual Income'])"
   ]
  },
  {
   "cell_type": "code",
   "execution_count": 18,
   "metadata": {},
   "outputs": [],
   "source": [
    "df = df[df['Annual Income'] <=  1892947.2]"
   ]
  },
  {
   "cell_type": "markdown",
   "metadata": {},
   "source": [
    "## Annual Income Distribution "
   ]
  },
  {
   "cell_type": "code",
   "execution_count": 19,
   "metadata": {},
   "outputs": [
    {
     "name": "stdout",
     "output_type": "stream",
     "text": [
      "Average Current Loan Amount = Rs 1139753.13\n"
     ]
    }
   ],
   "source": [
    "print(\"Average Current Loan Amount = Rs\",round(df['Annual Income'].mean(),2))"
   ]
  },
  {
   "cell_type": "code",
   "execution_count": 20,
   "metadata": {},
   "outputs": [
    {
     "data": {
      "text/plain": [
       "(0.0, 5000.0)"
      ]
     },
     "execution_count": 20,
     "metadata": {},
     "output_type": "execute_result"
    },
    {
     "data": {
      "image/png": "[encoded data removed]",
      "text/plain": [
       "<Figure size 1152x432 with 1 Axes>"
      ]
     },
     "metadata": {
      "needs_background": "light"
     },
     "output_type": "display_data"
    }
   ],
   "source": [
    "plt.figure(figsize=(16,6))\n",
    "plt.hist(df['Annual Income'])\n",
    "plt.grid(alpha=0.4)\n",
    "plt.xlim(right=2000000)\n",
    "plt.ylim(top=5000) "
   ]
  },
  {
   "cell_type": "markdown",
   "metadata": {},
   "source": [
    "## Understanding data before getting into ML Part"
   ]
  },
  {
   "cell_type": "markdown",
   "metadata": {},
   "source": [
    "### Let's split the data into \"Fully Paid\" & \"Charged Off\" categories of outcome "
   ]
  },
  {
   "cell_type": "code",
   "execution_count": 21,
   "metadata": {},
   "outputs": [
    {
     "name": "stdout",
     "output_type": "stream",
     "text": [
      "<class 'pandas.core.frame.DataFrame'>\n",
      "Int64Index: 25257 entries, 0 to 25256\n",
      "Data columns (total 17 columns):\n",
      " #   Column                        Non-Null Count  Dtype  \n",
      "---  ------                        --------------  -----  \n",
      " 0   Loan Status                   25257 non-null  object \n",
      " 1   Current Loan Amount           25257 non-null  int64  \n",
      " 2   Term                          25257 non-null  object \n",
      " 3   Credit Score                  25257 non-null  float64\n",
      " 4   Annual Income                 25257 non-null  int64  \n",
      " 5   Years in current job          25257 non-null  object \n",
      " 6   Home Ownership                25257 non-null  object \n",
      " 7   Purpose                       25257 non-null  object \n",
      " 8   Monthly Debt                  25257 non-null  float64\n",
      " 9   Years of Credit History       25257 non-null  float64\n",
      " 10  Months since last delinquent  25257 non-null  int64  \n",
      " 11  Number of Open Accounts       25257 non-null  int64  \n",
      " 12  Number of Credit Problems     25257 non-null  int64  \n",
      " 13  Current Credit Balance        25257 non-null  float64\n",
      " 14  Maximum Open Credit           25257 non-null  int64  \n",
      " 15  Bankruptcies                  25257 non-null  int64  \n",
      " 16  Tax Liens                     25257 non-null  int64  \n",
      "dtypes: float64(4), int64(8), object(5)\n",
      "memory usage: 3.5+ MB\n"
     ]
    }
   ],
   "source": [
    "df.info()"
   ]
  },
  {
   "cell_type": "code",
   "execution_count": 22,
   "metadata": {},
   "outputs": [
    {
     "data": {
      "text/plain": [
       "array(['Charged Off', 'Fully Paid'], dtype=object)"
      ]
     },
     "execution_count": 22,
     "metadata": {},
     "output_type": "execute_result"
    }
   ],
   "source": [
    "df['Loan Status'].unique()"
   ]
  },
  {
   "cell_type": "code",
   "execution_count": 23,
   "metadata": {},
   "outputs": [],
   "source": [
    "loan_sanction = df[df['Loan Status'] == 'Fully Paid']\n",
    "loan_rejected = df[df['Loan Status'] == 'Charged Off']"
   ]
  },
  {
   "cell_type": "code",
   "execution_count": 24,
   "metadata": {},
   "outputs": [
    {
     "data": {
      "text/plain": [
       "18980"
      ]
     },
     "execution_count": 24,
     "metadata": {},
     "output_type": "execute_result"
    }
   ],
   "source": [
    "len(loan_sanction)"
   ]
  },
  {
   "cell_type": "code",
   "execution_count": 25,
   "metadata": {},
   "outputs": [
    {
     "data": {
      "text/plain": [
       "6277"
      ]
     },
     "execution_count": 25,
     "metadata": {},
     "output_type": "execute_result"
    }
   ],
   "source": [
    "len(loan_rejected)"
   ]
  },
  {
   "cell_type": "code",
   "execution_count": 26,
   "metadata": {},
   "outputs": [
    {
     "name": "stdout",
     "output_type": "stream",
     "text": [
      "Total % Loan Charged Off =  25 %\n"
     ]
    }
   ],
   "source": [
    "print(\"Total % Loan Charged Off = \",round((len(loan_rejected)/len(df))*100),\"%\")"
   ]
  },
  {
   "cell_type": "markdown",
   "metadata": {},
   "source": [
    "## Let's understand the factors that differentiates between those 2 labels "
   ]
  },
  {
   "cell_type": "markdown",
   "metadata": {},
   "source": [
    "### TERM Period"
   ]
  },
  {
   "cell_type": "code",
   "execution_count": 27,
   "metadata": {},
   "outputs": [
    {
     "data": {
      "text/plain": [
       "(0.0, 18000.0)"
      ]
     },
     "execution_count": 27,
     "metadata": {},
     "output_type": "execute_result"
    },
    {
     "data": {
      "image/png": "[encoded data removed]",
      "text/plain": [
       "<Figure size 1008x432 with 1 Axes>"
      ]
     },
     "metadata": {
      "needs_background": "light"
     },
     "output_type": "display_data"
    }
   ],
   "source": [
    "plt.figure(figsize=(14,6))\n",
    "sns.countplot(y ='Term', data = loan_sanction,hue='Loan Status') \n",
    "plt.grid(alpha=0.4)\n",
    "plt.xlim(right=18000)"
   ]
  },
  {
   "cell_type": "code",
   "execution_count": 28,
   "metadata": {},
   "outputs": [
    {
     "data": {
      "text/plain": [
       "(0.0, 4000.0)"
      ]
     },
     "execution_count": 28,
     "metadata": {},
     "output_type": "execute_result"
    },
    {
     "data": {
      "image/png": "[encoded data removed]",
      "text/plain": [
       "<Figure size 1008x432 with 1 Axes>"
      ]
     },
     "metadata": {
      "needs_background": "light"
     },
     "output_type": "display_data"
    }
   ],
   "source": [
    "plt.figure(figsize=(14,6))\n",
    "sns.countplot(y ='Term', data = loan_rejected,hue='Loan Status')\n",
    "plt.grid(alpha=0.4)\n",
    "plt.xlim(right=4000)"
   ]
  },
  {
   "cell_type": "markdown",
   "metadata": {},
   "source": [
    "### Current Loan Amount "
   ]
  },
  {
   "cell_type": "code",
   "execution_count": 29,
   "metadata": {},
   "outputs": [
    {
     "name": "stdout",
     "output_type": "stream",
     "text": [
      "Average Current Loan Amount = Rs 277220.24\n"
     ]
    }
   ],
   "source": [
    "print(\"Average Current Loan Amount = Rs\",round(loan_sanction['Current Loan Amount'].mean(),2))"
   ]
  },
  {
   "cell_type": "code",
   "execution_count": 30,
   "metadata": {},
   "outputs": [
    {
     "data": {
      "text/plain": [
       "(0.0, 4000.0)"
      ]
     },
     "execution_count": 30,
     "metadata": {},
     "output_type": "execute_result"
    },
    {
     "data": {
      "image/png": "[encoded data removed]",
      "text/plain": [
       "<Figure size 1152x432 with 1 Axes>"
      ]
     },
     "metadata": {
      "needs_background": "light"
     },
     "output_type": "display_data"
    }
   ],
   "source": [
    "plt.figure(figsize=(16,6))\n",
    "plt.hist(loan_sanction['Current Loan Amount'])\n",
    "plt.grid(alpha=0.4)\n",
    "plt.ylim(top=4000)"
   ]
  },
  {
   "cell_type": "code",
   "execution_count": 31,
   "metadata": {},
   "outputs": [
    {
     "name": "stdout",
     "output_type": "stream",
     "text": [
      "Average Current Loan Amount = Rs 303011.49\n"
     ]
    }
   ],
   "source": [
    "print(\"Average Current Loan Amount = Rs\",round(loan_rejected['Current Loan Amount'].mean(),2))"
   ]
  },
  {
   "cell_type": "code",
   "execution_count": 32,
   "metadata": {},
   "outputs": [
    {
     "data": {
      "text/plain": [
       "(0.0, 2000.0)"
      ]
     },
     "execution_count": 32,
     "metadata": {},
     "output_type": "execute_result"
    },
    {
     "data": {
      "image/png": "[encoded data removed]",
      "text/plain": [
       "<Figure size 1152x432 with 1 Axes>"
      ]
     },
     "metadata": {
      "needs_background": "light"
     },
     "output_type": "display_data"
    }
   ],
   "source": [
    "plt.figure(figsize=(16,6))\n",
    "plt.hist(loan_rejected['Current Loan Amount'])\n",
    "plt.grid(alpha=0.4)\n",
    "plt.ylim(top=2000)"
   ]
  },
  {
   "cell_type": "markdown",
   "metadata": {},
   "source": [
    "### Annual Income "
   ]
  },
  {
   "cell_type": "code",
   "execution_count": 33,
   "metadata": {},
   "outputs": [
    {
     "name": "stdout",
     "output_type": "stream",
     "text": [
      "Average Annual Income = Rs 1152800.73\n"
     ]
    }
   ],
   "source": [
    "print(\"Average Annual Income = Rs\",round(loan_sanction['Annual Income'].mean(),2))"
   ]
  },
  {
   "cell_type": "code",
   "execution_count": 34,
   "metadata": {},
   "outputs": [
    {
     "data": {
      "image/png": "[encoded data removed]",
      "text/plain": [
       "<Figure size 1152x432 with 1 Axes>"
      ]
     },
     "metadata": {
      "needs_background": "light"
     },
     "output_type": "display_data"
    }
   ],
   "source": [
    "plt.figure(figsize=(16,6))\n",
    "plt.hist(loan_sanction['Annual Income'], bins=30)\n",
    "plt.grid(alpha=0.4)"
   ]
  },
  {
   "cell_type": "code",
   "execution_count": 35,
   "metadata": {},
   "outputs": [
    {
     "name": "stdout",
     "output_type": "stream",
     "text": [
      "Average Annual Income = Rs 1100300.62\n"
     ]
    }
   ],
   "source": [
    "print(\"Average Annual Income = Rs\",round(loan_rejected['Annual Income'].mean(),2))"
   ]
  },
  {
   "cell_type": "code",
   "execution_count": 36,
   "metadata": {},
   "outputs": [
    {
     "data": {
      "image/png": "[encoded data removed]",
      "text/plain": [
       "<Figure size 1152x432 with 1 Axes>"
      ]
     },
     "metadata": {
      "needs_background": "light"
     },
     "output_type": "display_data"
    }
   ],
   "source": [
    "plt.figure(figsize=(16,6))\n",
    "plt.hist(loan_rejected['Annual Income'], bins=30)\n",
    "plt.grid(alpha=0.4)"
   ]
  },
  {
   "cell_type": "markdown",
   "metadata": {},
   "source": [
    "### Just a refrence of features what we have"
   ]
  },
  {
   "cell_type": "code",
   "execution_count": 37,
   "metadata": {},
   "outputs": [
    {
     "name": "stdout",
     "output_type": "stream",
     "text": [
      "<class 'pandas.core.frame.DataFrame'>\n",
      "Int64Index: 18980 entries, 6277 to 25256\n",
      "Data columns (total 17 columns):\n",
      " #   Column                        Non-Null Count  Dtype  \n",
      "---  ------                        --------------  -----  \n",
      " 0   Loan Status                   18980 non-null  object \n",
      " 1   Current Loan Amount           18980 non-null  int64  \n",
      " 2   Term                          18980 non-null  object \n",
      " 3   Credit Score                  18980 non-null  float64\n",
      " 4   Annual Income                 18980 non-null  int64  \n",
      " 5   Years in current job          18980 non-null  object \n",
      " 6   Home Ownership                18980 non-null  object \n",
      " 7   Purpose                       18980 non-null  object \n",
      " 8   Monthly Debt                  18980 non-null  float64\n",
      " 9   Years of Credit History       18980 non-null  float64\n",
      " 10  Months since last delinquent  18980 non-null  int64  \n",
      " 11  Number of Open Accounts       18980 non-null  int64  \n",
      " 12  Number of Credit Problems     18980 non-null  int64  \n",
      " 13  Current Credit Balance        18980 non-null  float64\n",
      " 14  Maximum Open Credit           18980 non-null  int64  \n",
      " 15  Bankruptcies                  18980 non-null  int64  \n",
      " 16  Tax Liens                     18980 non-null  int64  \n",
      "dtypes: float64(4), int64(8), object(5)\n",
      "memory usage: 3.2+ MB\n"
     ]
    }
   ],
   "source": [
    "loan_sanction.info()"
   ]
  },
  {
   "cell_type": "markdown",
   "metadata": {},
   "source": [
    "### Months since last Delinquent"
   ]
  },
  {
   "cell_type": "code",
   "execution_count": 38,
   "metadata": {},
   "outputs": [
    {
     "name": "stdout",
     "output_type": "stream",
     "text": [
      "Average Months since last delinquent =  35.67\n"
     ]
    }
   ],
   "source": [
    "print(\"Average Months since last delinquent = \",round(loan_sanction['Months since last delinquent'].mean(),2))"
   ]
  },
  {
   "cell_type": "code",
   "execution_count": 39,
   "metadata": {},
   "outputs": [
    {
     "data": {
      "text/plain": [
       "(-8.799999999999999, 140.0)"
      ]
     },
     "execution_count": 39,
     "metadata": {},
     "output_type": "execute_result"
    },
    {
     "data": {
      "image/png": "[encoded data removed]",
      "text/plain": [
       "<Figure size 1152x432 with 1 Axes>"
      ]
     },
     "metadata": {
      "needs_background": "light"
     },
     "output_type": "display_data"
    }
   ],
   "source": [
    "plt.figure(figsize=(16,6))\n",
    "plt.hist(loan_sanction['Months since last delinquent'])\n",
    "plt.grid(alpha=0.4)\n",
    "plt.xlim(right=140)"
   ]
  },
  {
   "cell_type": "code",
   "execution_count": 40,
   "metadata": {},
   "outputs": [
    {
     "name": "stdout",
     "output_type": "stream",
     "text": [
      "Average Months since last delinquent =  34.77\n"
     ]
    }
   ],
   "source": [
    "print(\"Average Months since last delinquent = \",round(loan_rejected['Months since last delinquent'].mean(),2))"
   ]
  },
  {
   "cell_type": "code",
   "execution_count": 41,
   "metadata": {},
   "outputs": [
    {
     "data": {
      "image/png": "[encoded data removed]",
      "text/plain": [
       "<Figure size 1152x432 with 1 Axes>"
      ]
     },
     "metadata": {
      "needs_background": "light"
     },
     "output_type": "display_data"
    }
   ],
   "source": [
    "plt.figure(figsize=(16,6))\n",
    "plt.hist(loan_rejected['Months since last delinquent'])\n",
    "plt.grid(alpha=0.4)"
   ]
  },
  {
   "cell_type": "markdown",
   "metadata": {},
   "source": [
    "### Purpose "
   ]
  },
  {
   "cell_type": "code",
   "execution_count": 42,
   "metadata": {},
   "outputs": [
    {
     "data": {
      "image/png": "[encoded data removed]",
      "text/plain": [
       "<Figure size 1008x432 with 1 Axes>"
      ]
     },
     "metadata": {
      "needs_background": "light"
     },
     "output_type": "display_data"
    }
   ],
   "source": [
    "plt.figure(figsize=(14,6))\n",
    "sns.countplot(y ='Purpose', data = loan_sanction,hue='Loan Status') \n",
    "plt.grid(alpha=0.4)"
   ]
  },
  {
   "cell_type": "code",
   "execution_count": 43,
   "metadata": {},
   "outputs": [
    {
     "data": {
      "image/png": "[encoded data removed]",
      "text/plain": [
       "<Figure size 1008x432 with 1 Axes>"
      ]
     },
     "metadata": {
      "needs_background": "light"
     },
     "output_type": "display_data"
    }
   ],
   "source": [
    "plt.figure(figsize=(14,6))\n",
    "sns.countplot(y ='Purpose', data = loan_rejected,hue='Loan Status') \n",
    "plt.grid(alpha=0.4)"
   ]
  },
  {
   "cell_type": "markdown",
   "metadata": {},
   "source": [
    "### CREDIT Score"
   ]
  },
  {
   "cell_type": "code",
   "execution_count": 44,
   "metadata": {},
   "outputs": [
    {
     "data": {
      "text/plain": [
       "count    18980.000000\n",
       "mean       713.658641\n",
       "std         26.301808\n",
       "min        587.000000\n",
       "25%        701.000000\n",
       "50%        718.000000\n",
       "75%        734.000000\n",
       "max        751.000000\n",
       "Name: Credit Score, dtype: float64"
      ]
     },
     "execution_count": 44,
     "metadata": {},
     "output_type": "execute_result"
    }
   ],
   "source": [
    "loan_sanction['Credit Score'].describe()"
   ]
  },
  {
   "cell_type": "code",
   "execution_count": 45,
   "metadata": {},
   "outputs": [
    {
     "data": {
      "text/plain": [
       "count    6277.000000\n",
       "mean     1416.761542\n",
       "std      1680.548120\n",
       "min       351.000000\n",
       "25%       420.600000\n",
       "50%       436.800000\n",
       "75%      3834.000000\n",
       "max      4506.000000\n",
       "Name: Credit Score, dtype: float64"
      ]
     },
     "execution_count": 45,
     "metadata": {},
     "output_type": "execute_result"
    }
   ],
   "source": [
    "loan_rejected['Credit Score'].describe()"
   ]
  },
  {
   "cell_type": "code",
   "execution_count": 46,
   "metadata": {},
   "outputs": [
    {
     "name": "stdout",
     "output_type": "stream",
     "text": [
      "0.05    390.6\n",
      "0.73    448.2\n",
      "Name: Credit Score, dtype: float64\n"
     ]
    }
   ],
   "source": [
    "low = .05\n",
    "high = .73\n",
    "a = loan_rejected['Credit Score'].quantile([low, high])\n",
    "print(a)"
   ]
  },
  {
   "cell_type": "code",
   "execution_count": 47,
   "metadata": {},
   "outputs": [],
   "source": [
    "loan_sanction = loan_sanction[loan_sanction['Credit Score'] <=  900]\n",
    "loan_rejected = loan_rejected[loan_rejected['Credit Score'] <=  900]"
   ]
  },
  {
   "cell_type": "code",
   "execution_count": 48,
   "metadata": {},
   "outputs": [
    {
     "name": "stdout",
     "output_type": "stream",
     "text": [
      "Average Credit Score =  713.66\n"
     ]
    }
   ],
   "source": [
    "print(\"Average Credit Score = \",round(loan_sanction['Credit Score'].mean(),2))"
   ]
  },
  {
   "cell_type": "code",
   "execution_count": 49,
   "metadata": {},
   "outputs": [
    {
     "data": {
      "text/plain": [
       "(578.8, 800.0)"
      ]
     },
     "execution_count": 49,
     "metadata": {},
     "output_type": "execute_result"
    },
    {
     "data": {
      "image/png": "[encoded data removed]",
      "text/plain": [
       "<Figure size 1152x432 with 1 Axes>"
      ]
     },
     "metadata": {
      "needs_background": "light"
     },
     "output_type": "display_data"
    }
   ],
   "source": [
    "plt.figure(figsize=(16,6))\n",
    "plt.hist(loan_sanction['Credit Score'])\n",
    "plt.grid(alpha=0.4)\n",
    "plt.xlim(right=800)"
   ]
  },
  {
   "cell_type": "code",
   "execution_count": 50,
   "metadata": {},
   "outputs": [
    {
     "name": "stdout",
     "output_type": "stream",
     "text": [
      "Average Credit Score =  424.38\n"
     ]
    }
   ],
   "source": [
    "print(\"Average Credit Score = \",round(loan_rejected['Credit Score'].mean(),2))"
   ]
  },
  {
   "cell_type": "code",
   "execution_count": 51,
   "metadata": {},
   "outputs": [
    {
     "data": {
      "text/plain": [
       "(346.02, 700.0)"
      ]
     },
     "execution_count": 51,
     "metadata": {},
     "output_type": "execute_result"
    },
    {
     "data": {
      "image/png": "[encoded data removed]",
      "text/plain": [
       "<Figure size 1152x432 with 1 Axes>"
      ]
     },
     "metadata": {
      "needs_background": "light"
     },
     "output_type": "display_data"
    }
   ],
   "source": [
    "plt.figure(figsize=(16,6))\n",
    "plt.hist(loan_rejected['Credit Score'])\n",
    "plt.grid(alpha=0.4)\n",
    "plt.xlim(right=700)"
   ]
  },
  {
   "cell_type": "markdown",
   "metadata": {},
   "source": [
    "### Number of Open Accounts"
   ]
  },
  {
   "cell_type": "code",
   "execution_count": 52,
   "metadata": {},
   "outputs": [
    {
     "name": "stdout",
     "output_type": "stream",
     "text": [
      "0.05     5.0\n",
      "0.70    13.0\n",
      "Name: Number of Open Accounts, dtype: float64\n"
     ]
    }
   ],
   "source": [
    "low = .05\n",
    "high = .70\n",
    "temp = loan_rejected['Number of Open Accounts'].quantile([low, high])\n",
    "print(temp)"
   ]
  },
  {
   "cell_type": "code",
   "execution_count": 53,
   "metadata": {},
   "outputs": [
    {
     "name": "stdout",
     "output_type": "stream",
     "text": [
      "Average Number of Open Accounts =  6.26\n"
     ]
    }
   ],
   "source": [
    "print(\"Average Number of Open Accounts = \",round(loan_sanction['Number of Open Accounts'].mean(),2))"
   ]
  },
  {
   "cell_type": "code",
   "execution_count": 54,
   "metadata": {},
   "outputs": [
    {
     "data": {
      "image/png": "[encoded data removed]",
      "text/plain": [
       "<Figure size 1152x432 with 1 Axes>"
      ]
     },
     "metadata": {
      "needs_background": "light"
     },
     "output_type": "display_data"
    }
   ],
   "source": [
    "plt.figure(figsize=(16,6))\n",
    "plt.hist(loan_sanction['Number of Open Accounts'])\n",
    "plt.grid(alpha=0.4)"
   ]
  },
  {
   "cell_type": "code",
   "execution_count": 55,
   "metadata": {},
   "outputs": [
    {
     "name": "stdout",
     "output_type": "stream",
     "text": [
      "Average Number of Open Accounts =  11.53\n"
     ]
    }
   ],
   "source": [
    "print(\"Average Number of Open Accounts = \",round(loan_rejected['Number of Open Accounts'].mean(),2))"
   ]
  },
  {
   "cell_type": "code",
   "execution_count": 56,
   "metadata": {},
   "outputs": [
    {
     "data": {
      "image/png": "[encoded data removed]",
      "text/plain": [
       "<Figure size 1152x432 with 1 Axes>"
      ]
     },
     "metadata": {
      "needs_background": "light"
     },
     "output_type": "display_data"
    }
   ],
   "source": [
    "plt.figure(figsize=(16,6))\n",
    "plt.hist(loan_rejected['Number of Open Accounts'])\n",
    "plt.grid(alpha=0.4)"
   ]
  },
  {
   "cell_type": "markdown",
   "metadata": {},
   "source": [
    "### Current Credit Balance"
   ]
  },
  {
   "cell_type": "code",
   "execution_count": 57,
   "metadata": {},
   "outputs": [
    {
     "name": "stdout",
     "output_type": "stream",
     "text": [
      "0.05     16727.79\n",
      "0.80    196319.40\n",
      "Name: Current Credit Balance, dtype: float64\n"
     ]
    }
   ],
   "source": [
    "low = .05\n",
    "high = .8\n",
    "temp = loan_rejected['Current Credit Balance'].quantile([low, high])\n",
    "print(temp)"
   ]
  },
  {
   "cell_type": "code",
   "execution_count": 58,
   "metadata": {},
   "outputs": [],
   "source": [
    "loan_sanction = loan_sanction[loan_sanction['Current Credit Balance'] <=  289043.2]\n",
    "loan_rejected = loan_rejected[loan_rejected['Current Credit Balance'] <=  289043.2]"
   ]
  },
  {
   "cell_type": "code",
   "execution_count": 59,
   "metadata": {},
   "outputs": [
    {
     "name": "stdout",
     "output_type": "stream",
     "text": [
      "Average Current Credit Balance = Rs 135050.93\n"
     ]
    }
   ],
   "source": [
    "print(\"Average Current Credit Balance = Rs\",round(loan_sanction['Current Credit Balance'].mean(),2))"
   ]
  },
  {
   "cell_type": "code",
   "execution_count": 60,
   "metadata": {},
   "outputs": [
    {
     "data": {
      "image/png": "[encoded data removed]",
      "text/plain": [
       "<Figure size 1152x432 with 1 Axes>"
      ]
     },
     "metadata": {
      "needs_background": "light"
     },
     "output_type": "display_data"
    }
   ],
   "source": [
    "plt.figure(figsize=(16,6))\n",
    "plt.hist(loan_sanction['Current Credit Balance'])\n",
    "plt.grid(alpha=0.4)"
   ]
  },
  {
   "cell_type": "code",
   "execution_count": 61,
   "metadata": {},
   "outputs": [
    {
     "name": "stdout",
     "output_type": "stream",
     "text": [
      "Average Current Credit Balance = Rs 109333.44\n"
     ]
    }
   ],
   "source": [
    "print(\"Average Current Credit Balance = Rs\",round(loan_rejected['Current Credit Balance'].mean(),2))"
   ]
  },
  {
   "cell_type": "code",
   "execution_count": 62,
   "metadata": {},
   "outputs": [
    {
     "data": {
      "image/png": "[encoded data removed]",
      "text/plain": [
       "<Figure size 1152x432 with 1 Axes>"
      ]
     },
     "metadata": {
      "needs_background": "light"
     },
     "output_type": "display_data"
    }
   ],
   "source": [
    "plt.figure(figsize=(16,6))\n",
    "plt.hist(loan_rejected['Current Credit Balance'])\n",
    "plt.grid(alpha=0.4)"
   ]
  },
  {
   "cell_type": "markdown",
   "metadata": {},
   "source": [
    "### Number of Credit Problems"
   ]
  },
  {
   "cell_type": "code",
   "execution_count": 63,
   "metadata": {},
   "outputs": [
    {
     "data": {
      "image/png": "[encoded data removed]",
      "text/plain": [
       "<Figure size 1152x432 with 1 Axes>"
      ]
     },
     "metadata": {
      "needs_background": "light"
     },
     "output_type": "display_data"
    }
   ],
   "source": [
    "plt.figure(figsize=(16,6))\n",
    "plt.hist(loan_sanction['Number of Credit Problems'])\n",
    "plt.grid(alpha=0.4)"
   ]
  },
  {
   "cell_type": "code",
   "execution_count": 64,
   "metadata": {},
   "outputs": [
    {
     "data": {
      "image/png": "[encoded data removed]",
      "text/plain": [
       "<Figure size 1152x432 with 1 Axes>"
      ]
     },
     "metadata": {
      "needs_background": "light"
     },
     "output_type": "display_data"
    }
   ],
   "source": [
    "plt.figure(figsize=(16,6))\n",
    "plt.hist(loan_rejected['Number of Credit Problems'])\n",
    "plt.grid(alpha=0.4)"
   ]
  },
  {
   "cell_type": "markdown",
   "metadata": {},
   "source": [
    "### Just a refrence of features what we have"
   ]
  },
  {
   "cell_type": "code",
   "execution_count": 65,
   "metadata": {},
   "outputs": [
    {
     "name": "stdout",
     "output_type": "stream",
     "text": [
      "<class 'pandas.core.frame.DataFrame'>\n",
      "Int64Index: 14398 entries, 6277 to 25256\n",
      "Data columns (total 17 columns):\n",
      " #   Column                        Non-Null Count  Dtype  \n",
      "---  ------                        --------------  -----  \n",
      " 0   Loan Status                   14398 non-null  object \n",
      " 1   Current Loan Amount           14398 non-null  int64  \n",
      " 2   Term                          14398 non-null  object \n",
      " 3   Credit Score                  14398 non-null  float64\n",
      " 4   Annual Income                 14398 non-null  int64  \n",
      " 5   Years in current job          14398 non-null  object \n",
      " 6   Home Ownership                14398 non-null  object \n",
      " 7   Purpose                       14398 non-null  object \n",
      " 8   Monthly Debt                  14398 non-null  float64\n",
      " 9   Years of Credit History       14398 non-null  float64\n",
      " 10  Months since last delinquent  14398 non-null  int64  \n",
      " 11  Number of Open Accounts       14398 non-null  int64  \n",
      " 12  Number of Credit Problems     14398 non-null  int64  \n",
      " 13  Current Credit Balance        14398 non-null  float64\n",
      " 14  Maximum Open Credit           14398 non-null  int64  \n",
      " 15  Bankruptcies                  14398 non-null  int64  \n",
      " 16  Tax Liens                     14398 non-null  int64  \n",
      "dtypes: float64(4), int64(8), object(5)\n",
      "memory usage: 2.0+ MB\n"
     ]
    }
   ],
   "source": [
    "loan_sanction.info()"
   ]
  },
  {
   "cell_type": "markdown",
   "metadata": {},
   "source": [
    "### Home Ownership "
   ]
  },
  {
   "cell_type": "code",
   "execution_count": 66,
   "metadata": {},
   "outputs": [
    {
     "data": {
      "image/png": "[encoded data removed]",
      "text/plain": [
       "<Figure size 1152x432 with 1 Axes>"
      ]
     },
     "metadata": {
      "needs_background": "light"
     },
     "output_type": "display_data"
    }
   ],
   "source": [
    "plt.figure(figsize=(16,6))\n",
    "plt.hist(loan_sanction['Home Ownership'])\n",
    "plt.grid(alpha=0.4)"
   ]
  },
  {
   "cell_type": "code",
   "execution_count": 67,
   "metadata": {},
   "outputs": [
    {
     "data": {
      "image/png": "[encoded data removed]",
      "text/plain": [
       "<Figure size 1152x432 with 1 Axes>"
      ]
     },
     "metadata": {
      "needs_background": "light"
     },
     "output_type": "display_data"
    }
   ],
   "source": [
    "plt.figure(figsize=(16,6))\n",
    "plt.hist(loan_rejected['Home Ownership'])\n",
    "plt.grid(alpha=0.4)"
   ]
  },
  {
   "cell_type": "markdown",
   "metadata": {},
   "source": [
    "### Years in current Job"
   ]
  },
  {
   "cell_type": "code",
   "execution_count": 68,
   "metadata": {},
   "outputs": [
    {
     "data": {
      "image/png": "[encoded data removed]",
      "text/plain": [
       "<Figure size 1008x432 with 1 Axes>"
      ]
     },
     "metadata": {
      "needs_background": "light"
     },
     "output_type": "display_data"
    }
   ],
   "source": [
    "plt.figure(figsize=(14,6))\n",
    "sns.countplot(y ='Years in current job', data = loan_sanction,hue='Loan Status') \n",
    "plt.grid(alpha=0.4)"
   ]
  },
  {
   "cell_type": "code",
   "execution_count": 69,
   "metadata": {},
   "outputs": [
    {
     "data": {
      "image/png": "[encoded data removed]",
      "text/plain": [
       "<Figure size 1008x432 with 1 Axes>"
      ]
     },
     "metadata": {
      "needs_background": "light"
     },
     "output_type": "display_data"
    }
   ],
   "source": [
    "plt.figure(figsize=(14,6))\n",
    "sns.countplot(y ='Years in current job', data = loan_rejected,hue='Loan Status') \n",
    "plt.grid(alpha=0.4)"
   ]
  },
  {
   "cell_type": "code",
   "execution_count": null,
   "metadata": {},
   "outputs": [],
   "source": []
  },
  {
   "cell_type": "markdown",
   "metadata": {},
   "source": [
    "## Report from Analysis"
   ]
  },
  {
   "cell_type": "markdown",
   "metadata": {},
   "source": [
    "The following observations was made:\n",
    "\n",
    "Features that are not much of a help when it comes to understanding the difference \n",
    "between \"Fully Paid\" & \"Charged Off\" customer:\n",
    "* Term \n",
    "* Years in current job\n",
    "* Home Ownership\n",
    "* Annual Income\n",
    "* Months since last delinquent\n",
    "* No of credit problems\n",
    "* Home Ownership\n",
    "\n",
    "Features that help in determining key parameters when it comes to understanding the difference \n",
    "between \"Fully Paid\" & \"Charged Off\" customer:\n",
    "* Credit Score \n",
    "* Purpose\n",
    "* Current Loan Amount\n",
    "* Number of open accounts\n",
    "* Current credit balance"
   ]
  },
  {
   "cell_type": "markdown",
   "metadata": {},
   "source": [
    "## Story"
   ]
  },
  {
   "cell_type": "markdown",
   "metadata": {},
   "source": [
    "So looking after the pattern in data we observe the following:\n",
    "* Purpose of taking current loan is for debt consolidation i.e debt keeps mounting \n",
    "* Current Credit balance is comparitively low \n",
    "* Current Loan Amount is sligtly higher on average\n",
    "* Number of multiple accounts are higher i.e it can be that they are taking loans from multiple account\n",
    "* Credit Score is less, might be because they were unable to clear debts"
   ]
  },
  {
   "cell_type": "code",
   "execution_count": null,
   "metadata": {},
   "outputs": [],
   "source": []
  },
  {
   "cell_type": "markdown",
   "metadata": {},
   "source": [
    "# Now let's validate our inferences with Machine Learning Algorithms"
   ]
  },
  {
   "cell_type": "code",
   "execution_count": 70,
   "metadata": {},
   "outputs": [
    {
     "data": {
      "text/html": [
       "<div>\n",
       "<style scoped>\n",
       "    .dataframe tbody tr th:only-of-type {\n",
       "        vertical-align: middle;\n",
       "    }\n",
       "\n",
       "    .dataframe tbody tr th {\n",
       "        vertical-align: top;\n",
       "    }\n",
       "\n",
       "    .dataframe thead th {\n",
       "        text-align: right;\n",
       "    }\n",
       "</style>\n",
       "<table border=\"1\" class=\"dataframe\">\n",
       "  <thead>\n",
       "    <tr style=\"text-align: right;\">\n",
       "      <th></th>\n",
       "      <th>Loan Status</th>\n",
       "      <th>Current Loan Amount</th>\n",
       "      <th>Term</th>\n",
       "      <th>Credit Score</th>\n",
       "      <th>Annual Income</th>\n",
       "      <th>Years in current job</th>\n",
       "      <th>Home Ownership</th>\n",
       "      <th>Purpose</th>\n",
       "      <th>Monthly Debt</th>\n",
       "      <th>Years of Credit History</th>\n",
       "      <th>Months since last delinquent</th>\n",
       "      <th>Number of Open Accounts</th>\n",
       "      <th>Number of Credit Problems</th>\n",
       "      <th>Current Credit Balance</th>\n",
       "      <th>Maximum Open Credit</th>\n",
       "      <th>Bankruptcies</th>\n",
       "      <th>Tax Liens</th>\n",
       "    </tr>\n",
       "  </thead>\n",
       "  <tbody>\n",
       "    <tr>\n",
       "      <th>0</th>\n",
       "      <td>Charged Off</td>\n",
       "      <td>317108</td>\n",
       "      <td>Long Term</td>\n",
       "      <td>412.2</td>\n",
       "      <td>1133274</td>\n",
       "      <td>6-9 years</td>\n",
       "      <td>Rent</td>\n",
       "      <td>Debt Consolidation</td>\n",
       "      <td>9632.81</td>\n",
       "      <td>17.4</td>\n",
       "      <td>53</td>\n",
       "      <td>4</td>\n",
       "      <td>0</td>\n",
       "      <td>36172.2</td>\n",
       "      <td>126940</td>\n",
       "      <td>0</td>\n",
       "      <td>0</td>\n",
       "    </tr>\n",
       "    <tr>\n",
       "      <th>1</th>\n",
       "      <td>Charged Off</td>\n",
       "      <td>688468</td>\n",
       "      <td>Long Term</td>\n",
       "      <td>409.2</td>\n",
       "      <td>1494616</td>\n",
       "      <td>&lt; 1 year</td>\n",
       "      <td>Rent</td>\n",
       "      <td>Debt Consolidation</td>\n",
       "      <td>14697.07</td>\n",
       "      <td>16.6</td>\n",
       "      <td>50</td>\n",
       "      <td>8</td>\n",
       "      <td>0</td>\n",
       "      <td>206397.0</td>\n",
       "      <td>843854</td>\n",
       "      <td>0</td>\n",
       "      <td>0</td>\n",
       "    </tr>\n",
       "    <tr>\n",
       "      <th>2</th>\n",
       "      <td>Charged Off</td>\n",
       "      <td>219692</td>\n",
       "      <td>Long Term</td>\n",
       "      <td>3966.0</td>\n",
       "      <td>527839</td>\n",
       "      <td>10+ years</td>\n",
       "      <td>Rent</td>\n",
       "      <td>Debt Consolidation</td>\n",
       "      <td>14207.63</td>\n",
       "      <td>17.0</td>\n",
       "      <td>48</td>\n",
       "      <td>9</td>\n",
       "      <td>0</td>\n",
       "      <td>152566.2</td>\n",
       "      <td>379918</td>\n",
       "      <td>0</td>\n",
       "      <td>0</td>\n",
       "    </tr>\n",
       "    <tr>\n",
       "      <th>3</th>\n",
       "      <td>Charged Off</td>\n",
       "      <td>374176</td>\n",
       "      <td>Long Term</td>\n",
       "      <td>391.2</td>\n",
       "      <td>1239199</td>\n",
       "      <td>10+ years</td>\n",
       "      <td>Home Mortgage</td>\n",
       "      <td>other</td>\n",
       "      <td>5163.25</td>\n",
       "      <td>36.6</td>\n",
       "      <td>42</td>\n",
       "      <td>10</td>\n",
       "      <td>0</td>\n",
       "      <td>75810.0</td>\n",
       "      <td>415602</td>\n",
       "      <td>0</td>\n",
       "      <td>0</td>\n",
       "    </tr>\n",
       "    <tr>\n",
       "      <th>4</th>\n",
       "      <td>Charged Off</td>\n",
       "      <td>290224</td>\n",
       "      <td>Long Term</td>\n",
       "      <td>386.4</td>\n",
       "      <td>837045</td>\n",
       "      <td>6-9 years</td>\n",
       "      <td>Home Mortgage</td>\n",
       "      <td>Debt Consolidation</td>\n",
       "      <td>8230.99</td>\n",
       "      <td>18.3</td>\n",
       "      <td>10</td>\n",
       "      <td>11</td>\n",
       "      <td>0</td>\n",
       "      <td>105974.4</td>\n",
       "      <td>370480</td>\n",
       "      <td>0</td>\n",
       "      <td>0</td>\n",
       "    </tr>\n",
       "  </tbody>\n",
       "</table>\n",
       "</div>"
      ],
      "text/plain": [
       "   Loan Status  Current Loan Amount       Term  Credit Score  Annual Income  \\\n",
       "0  Charged Off               317108  Long Term         412.2        1133274   \n",
       "1  Charged Off               688468  Long Term         409.2        1494616   \n",
       "2  Charged Off               219692  Long Term        3966.0         527839   \n",
       "3  Charged Off               374176  Long Term         391.2        1239199   \n",
       "4  Charged Off               290224  Long Term         386.4         837045   \n",
       "\n",
       "  Years in current job Home Ownership             Purpose  Monthly Debt  \\\n",
       "0            6-9 years           Rent  Debt Consolidation       9632.81   \n",
       "1             < 1 year           Rent  Debt Consolidation      14697.07   \n",
       "2            10+ years           Rent  Debt Consolidation      14207.63   \n",
       "3            10+ years  Home Mortgage               other       5163.25   \n",
       "4            6-9 years  Home Mortgage  Debt Consolidation       8230.99   \n",
       "\n",
       "   Years of Credit History  Months since last delinquent  \\\n",
       "0                     17.4                            53   \n",
       "1                     16.6                            50   \n",
       "2                     17.0                            48   \n",
       "3                     36.6                            42   \n",
       "4                     18.3                            10   \n",
       "\n",
       "   Number of Open Accounts  Number of Credit Problems  Current Credit Balance  \\\n",
       "0                        4                          0                 36172.2   \n",
       "1                        8                          0                206397.0   \n",
       "2                        9                          0                152566.2   \n",
       "3                       10                          0                 75810.0   \n",
       "4                       11                          0                105974.4   \n",
       "\n",
       "   Maximum Open Credit  Bankruptcies  Tax Liens  \n",
       "0               126940             0          0  \n",
       "1               843854             0          0  \n",
       "2               379918             0          0  \n",
       "3               415602             0          0  \n",
       "4               370480             0          0  "
      ]
     },
     "execution_count": 70,
     "metadata": {},
     "output_type": "execute_result"
    }
   ],
   "source": [
    "df.head()"
   ]
  },
  {
   "cell_type": "markdown",
   "metadata": {},
   "source": [
    "### Encoding data "
   ]
  },
  {
   "cell_type": "code",
   "execution_count": 71,
   "metadata": {},
   "outputs": [],
   "source": [
    "from sklearn import preprocessing \n",
    "label_encoder = preprocessing.LabelEncoder()"
   ]
  },
  {
   "cell_type": "code",
   "execution_count": 72,
   "metadata": {},
   "outputs": [],
   "source": [
    "df[\"Term\"]= df[\"Term\"].astype(str) \n",
    "df[\"Years in current job\"]= df[\"Years in current job\"].astype(str) \n",
    "df[\"Home Ownership\"]= df[\"Home Ownership\"].astype(str) \n",
    "df[\"Purpose\"]= df[\"Purpose\"].astype(str) \n",
    "df[\"Loan Status\"]= df[\"Loan Status\"].astype(str) "
   ]
  },
  {
   "cell_type": "code",
   "execution_count": 73,
   "metadata": {},
   "outputs": [],
   "source": [
    "df['Term'] = label_encoder.fit_transform(df['Term']) \n",
    "df['Years in current job'] = label_encoder.fit_transform(df['Years in current job']) \n",
    "df['Home Ownership'] = label_encoder.fit_transform(df['Home Ownership']) \n",
    "df['Purpose'] = label_encoder.fit_transform(df['Purpose']) \n",
    "df['Loan Status'] = label_encoder.fit_transform(df['Loan Status']) "
   ]
  },
  {
   "cell_type": "code",
   "execution_count": 74,
   "metadata": {},
   "outputs": [
    {
     "data": {
      "text/plain": [
       "Loan Status                     0\n",
       "Current Loan Amount             0\n",
       "Term                            0\n",
       "Credit Score                    0\n",
       "Annual Income                   0\n",
       "Years in current job            0\n",
       "Home Ownership                  0\n",
       "Purpose                         0\n",
       "Monthly Debt                    0\n",
       "Years of Credit History         0\n",
       "Months since last delinquent    0\n",
       "Number of Open Accounts         0\n",
       "Number of Credit Problems       0\n",
       "Current Credit Balance          0\n",
       "Maximum Open Credit             0\n",
       "Bankruptcies                    0\n",
       "Tax Liens                       0\n",
       "dtype: int64"
      ]
     },
     "execution_count": 74,
     "metadata": {},
     "output_type": "execute_result"
    }
   ],
   "source": [
    "df.isnull().sum()"
   ]
  },
  {
   "cell_type": "code",
   "execution_count": 75,
   "metadata": {},
   "outputs": [],
   "source": [
    "for i in df.columns:\n",
    "    df[i] = df[i].astype(float)"
   ]
  },
  {
   "cell_type": "code",
   "execution_count": 76,
   "metadata": {},
   "outputs": [
    {
     "data": {
      "text/html": [
       "<div>\n",
       "<style scoped>\n",
       "    .dataframe tbody tr th:only-of-type {\n",
       "        vertical-align: middle;\n",
       "    }\n",
       "\n",
       "    .dataframe tbody tr th {\n",
       "        vertical-align: top;\n",
       "    }\n",
       "\n",
       "    .dataframe thead th {\n",
       "        text-align: right;\n",
       "    }\n",
       "</style>\n",
       "<table border=\"1\" class=\"dataframe\">\n",
       "  <thead>\n",
       "    <tr style=\"text-align: right;\">\n",
       "      <th></th>\n",
       "      <th>Loan Status</th>\n",
       "      <th>Current Loan Amount</th>\n",
       "      <th>Term</th>\n",
       "      <th>Credit Score</th>\n",
       "      <th>Annual Income</th>\n",
       "      <th>Years in current job</th>\n",
       "      <th>Home Ownership</th>\n",
       "      <th>Purpose</th>\n",
       "      <th>Monthly Debt</th>\n",
       "      <th>Years of Credit History</th>\n",
       "      <th>Months since last delinquent</th>\n",
       "      <th>Number of Open Accounts</th>\n",
       "      <th>Number of Credit Problems</th>\n",
       "      <th>Current Credit Balance</th>\n",
       "      <th>Maximum Open Credit</th>\n",
       "      <th>Bankruptcies</th>\n",
       "      <th>Tax Liens</th>\n",
       "    </tr>\n",
       "  </thead>\n",
       "  <tbody>\n",
       "    <tr>\n",
       "      <th>0</th>\n",
       "      <td>0.0</td>\n",
       "      <td>317108.0</td>\n",
       "      <td>0.0</td>\n",
       "      <td>412.2</td>\n",
       "      <td>1133274.0</td>\n",
       "      <td>2.0</td>\n",
       "      <td>3.0</td>\n",
       "      <td>3.0</td>\n",
       "      <td>9632.81</td>\n",
       "      <td>17.4</td>\n",
       "      <td>53.0</td>\n",
       "      <td>4.0</td>\n",
       "      <td>0.0</td>\n",
       "      <td>36172.2</td>\n",
       "      <td>126940.0</td>\n",
       "      <td>0.0</td>\n",
       "      <td>0.0</td>\n",
       "    </tr>\n",
       "    <tr>\n",
       "      <th>1</th>\n",
       "      <td>0.0</td>\n",
       "      <td>688468.0</td>\n",
       "      <td>0.0</td>\n",
       "      <td>409.2</td>\n",
       "      <td>1494616.0</td>\n",
       "      <td>3.0</td>\n",
       "      <td>3.0</td>\n",
       "      <td>3.0</td>\n",
       "      <td>14697.07</td>\n",
       "      <td>16.6</td>\n",
       "      <td>50.0</td>\n",
       "      <td>8.0</td>\n",
       "      <td>0.0</td>\n",
       "      <td>206397.0</td>\n",
       "      <td>843854.0</td>\n",
       "      <td>0.0</td>\n",
       "      <td>0.0</td>\n",
       "    </tr>\n",
       "    <tr>\n",
       "      <th>2</th>\n",
       "      <td>0.0</td>\n",
       "      <td>219692.0</td>\n",
       "      <td>0.0</td>\n",
       "      <td>3966.0</td>\n",
       "      <td>527839.0</td>\n",
       "      <td>1.0</td>\n",
       "      <td>3.0</td>\n",
       "      <td>3.0</td>\n",
       "      <td>14207.63</td>\n",
       "      <td>17.0</td>\n",
       "      <td>48.0</td>\n",
       "      <td>9.0</td>\n",
       "      <td>0.0</td>\n",
       "      <td>152566.2</td>\n",
       "      <td>379918.0</td>\n",
       "      <td>0.0</td>\n",
       "      <td>0.0</td>\n",
       "    </tr>\n",
       "    <tr>\n",
       "      <th>3</th>\n",
       "      <td>0.0</td>\n",
       "      <td>374176.0</td>\n",
       "      <td>0.0</td>\n",
       "      <td>391.2</td>\n",
       "      <td>1239199.0</td>\n",
       "      <td>1.0</td>\n",
       "      <td>1.0</td>\n",
       "      <td>11.0</td>\n",
       "      <td>5163.25</td>\n",
       "      <td>36.6</td>\n",
       "      <td>42.0</td>\n",
       "      <td>10.0</td>\n",
       "      <td>0.0</td>\n",
       "      <td>75810.0</td>\n",
       "      <td>415602.0</td>\n",
       "      <td>0.0</td>\n",
       "      <td>0.0</td>\n",
       "    </tr>\n",
       "    <tr>\n",
       "      <th>4</th>\n",
       "      <td>0.0</td>\n",
       "      <td>290224.0</td>\n",
       "      <td>0.0</td>\n",
       "      <td>386.4</td>\n",
       "      <td>837045.0</td>\n",
       "      <td>2.0</td>\n",
       "      <td>1.0</td>\n",
       "      <td>3.0</td>\n",
       "      <td>8230.99</td>\n",
       "      <td>18.3</td>\n",
       "      <td>10.0</td>\n",
       "      <td>11.0</td>\n",
       "      <td>0.0</td>\n",
       "      <td>105974.4</td>\n",
       "      <td>370480.0</td>\n",
       "      <td>0.0</td>\n",
       "      <td>0.0</td>\n",
       "    </tr>\n",
       "  </tbody>\n",
       "</table>\n",
       "</div>"
      ],
      "text/plain": [
       "   Loan Status  Current Loan Amount  Term  Credit Score  Annual Income  \\\n",
       "0          0.0             317108.0   0.0         412.2      1133274.0   \n",
       "1          0.0             688468.0   0.0         409.2      1494616.0   \n",
       "2          0.0             219692.0   0.0        3966.0       527839.0   \n",
       "3          0.0             374176.0   0.0         391.2      1239199.0   \n",
       "4          0.0             290224.0   0.0         386.4       837045.0   \n",
       "\n",
       "   Years in current job  Home Ownership  Purpose  Monthly Debt  \\\n",
       "0                   2.0             3.0      3.0       9632.81   \n",
       "1                   3.0             3.0      3.0      14697.07   \n",
       "2                   1.0             3.0      3.0      14207.63   \n",
       "3                   1.0             1.0     11.0       5163.25   \n",
       "4                   2.0             1.0      3.0       8230.99   \n",
       "\n",
       "   Years of Credit History  Months since last delinquent  \\\n",
       "0                     17.4                          53.0   \n",
       "1                     16.6                          50.0   \n",
       "2                     17.0                          48.0   \n",
       "3                     36.6                          42.0   \n",
       "4                     18.3                          10.0   \n",
       "\n",
       "   Number of Open Accounts  Number of Credit Problems  Current Credit Balance  \\\n",
       "0                      4.0                        0.0                 36172.2   \n",
       "1                      8.0                        0.0                206397.0   \n",
       "2                      9.0                        0.0                152566.2   \n",
       "3                     10.0                        0.0                 75810.0   \n",
       "4                     11.0                        0.0                105974.4   \n",
       "\n",
       "   Maximum Open Credit  Bankruptcies  Tax Liens  \n",
       "0             126940.0           0.0        0.0  \n",
       "1             843854.0           0.0        0.0  \n",
       "2             379918.0           0.0        0.0  \n",
       "3             415602.0           0.0        0.0  \n",
       "4             370480.0           0.0        0.0  "
      ]
     },
     "execution_count": 76,
     "metadata": {},
     "output_type": "execute_result"
    }
   ],
   "source": [
    "df.head()"
   ]
  },
  {
   "cell_type": "markdown",
   "metadata": {},
   "source": [
    "### Standardizing Data"
   ]
  },
  {
   "cell_type": "code",
   "execution_count": 77,
   "metadata": {},
   "outputs": [],
   "source": [
    "from sklearn.preprocessing import StandardScaler\n",
    "scaler = StandardScaler()"
   ]
  },
  {
   "cell_type": "code",
   "execution_count": 78,
   "metadata": {},
   "outputs": [],
   "source": [
    "label = df['Loan Status']"
   ]
  },
  {
   "cell_type": "code",
   "execution_count": 79,
   "metadata": {},
   "outputs": [],
   "source": [
    "column = df.columns"
   ]
  },
  {
   "cell_type": "code",
   "execution_count": 80,
   "metadata": {},
   "outputs": [],
   "source": [
    "df = scaler.fit_transform(df.to_numpy())"
   ]
  },
  {
   "cell_type": "code",
   "execution_count": 81,
   "metadata": {},
   "outputs": [],
   "source": [
    "df = pd.DataFrame(df, columns=column)"
   ]
  },
  {
   "cell_type": "markdown",
   "metadata": {},
   "source": [
    "### Splitting the model into training and testing"
   ]
  },
  {
   "cell_type": "code",
   "execution_count": 82,
   "metadata": {},
   "outputs": [],
   "source": [
    "x = df.drop('Loan Status', axis=1)\n",
    "y = label"
   ]
  },
  {
   "cell_type": "code",
   "execution_count": 83,
   "metadata": {},
   "outputs": [],
   "source": [
    "from sklearn.model_selection import train_test_split\n",
    "x_train,x_test,y_train,y_test = train_test_split(x,y,test_size=0.40,random_state =42)"
   ]
  },
  {
   "cell_type": "markdown",
   "metadata": {},
   "source": [
    "### Logistic Regression"
   ]
  },
  {
   "cell_type": "code",
   "execution_count": 86,
   "metadata": {},
   "outputs": [
    {
     "data": {
      "text/plain": [
       "<matplotlib.axes._subplots.AxesSubplot at 0x7fd057db16d0>"
      ]
     },
     "execution_count": 86,
     "metadata": {},
     "output_type": "execute_result"
    },
    {
     "data": {
      "image/png": "[encoded data removed]",
      "text/plain": [
       "<Figure size 1080x360 with 1 Axes>"
      ]
     },
     "metadata": {
      "needs_background": "light"
     },
     "output_type": "display_data"
    }
   ],
   "source": [
    "from sklearn.linear_model import LogisticRegression\n",
    "from sklearn.metrics import accuracy_score\n",
    "from sklearn.model_selection import cross_val_predict\n",
    "\n",
    "train_accuracies = []\n",
    "train_f1_scores = []\n",
    "test_accuracies = []\n",
    "test_f1_scores = []\n",
    "thresholds = []\n",
    "\n",
    "\n",
    "for thresh in np.arange(0.1,0.9,0.1): \n",
    "    logreg_clf = LogisticRegression()\n",
    "    logreg_clf.fit(x_train,y_train)\n",
    "    y_pred_train_thresh = logreg_clf.predict_proba(x_train)[:,1]\n",
    "    y_pred_train = (y_pred_train_thresh > thresh).astype(int)\n",
    "\n",
    "    train_acc = accuracy_score(y_train,y_pred_train)\n",
    "    train_f1 = f1_score(y_train,y_pred_train)\n",
    "    \n",
    "    y_pred_test_thresh = logreg_clf.predict_proba(x_test)[:,1]\n",
    "    y_pred_test = (y_pred_test_thresh > thresh).astype(int) \n",
    "    \n",
    "    test_acc = accuracy_score(y_test,y_pred_test)\n",
    "    test_f1 = f1_score(y_test,y_pred_test)\n",
    "    \n",
    "    train_accuracies.append(train_acc)\n",
    "    train_f1_scores.append(train_f1)\n",
    "    test_accuracies.append(test_acc)\n",
    "    test_f1_scores.append(test_f1)\n",
    "    thresholds.append(thresh)\n",
    "    \n",
    "    \n",
    "Threshold_logreg = {\"Training Accuracy\": train_accuracies, \"Test Accuracy\": test_accuracies, \"Training F1\": train_f1_scores, \"Test F1\":test_f1_scores, \"Decision Threshold\": thresholds }\n",
    "Threshold_logreg_df = pd.DataFrame.from_dict(Threshold_logreg)\n",
    "\n",
    "plot_df = Threshold_logreg_df.melt('Decision Threshold',var_name='Metrics',value_name=\"Values\")\n",
    "fig,ax = plt.subplots(figsize=(15,5))\n",
    "sns.pointplot(x=\"Decision Threshold\", y=\"Values\",hue=\"Metrics\", data=plot_df,ax=ax)"
   ]
  },
  {
   "cell_type": "markdown",
   "metadata": {},
   "source": [
    "### Decision Tree Classifier"
   ]
  },
  {
   "cell_type": "code",
   "execution_count": 87,
   "metadata": {},
   "outputs": [],
   "source": [
    "from sklearn.tree import DecisionTreeClassifier\n",
    "from sklearn.model_selection import cross_val_score\n",
    "from sklearn.metrics import accuracy_score,f1_score"
   ]
  },
  {
   "cell_type": "code",
   "execution_count": 88,
   "metadata": {},
   "outputs": [
    {
     "name": "stdout",
     "output_type": "stream",
     "text": [
      "Training Data Set Accuracy:  1.0\n",
      "Training Data F1 Score  1.0\n",
      "Validation Mean F1 Score:  1.0\n",
      "Validation Mean Accuracy:  1.0\n"
     ]
    }
   ],
   "source": [
    "from sklearn.tree import DecisionTreeClassifier\n",
    "from sklearn.model_selection import cross_val_score\n",
    "from sklearn.metrics import accuracy_score,f1_score\n",
    "\n",
    "\n",
    "tree_clf = DecisionTreeClassifier()\n",
    "tree_clf.fit(x_train,y_train)\n",
    "y_pred = tree_clf.predict(x_train)\n",
    "print(\"Training Data Set Accuracy: \", accuracy_score(y_train,y_pred))\n",
    "print(\"Training Data F1 Score \", f1_score(y_train,y_pred))\n",
    "\n",
    "print(\"Validation Mean F1 Score: \",cross_val_score(tree_clf,x_train,y_train,cv=5,scoring='f1_macro').mean())\n",
    "print(\"Validation Mean Accuracy: \",cross_val_score(tree_clf,x_train,y_train,cv=5,scoring='accuracy').mean())"
   ]
  },
  {
   "cell_type": "code",
   "execution_count": 89,
   "metadata": {},
   "outputs": [
    {
     "data": {
      "text/plain": [
       "<matplotlib.axes._subplots.AxesSubplot at 0x7fd0487a8410>"
      ]
     },
     "execution_count": 89,
     "metadata": {},
     "output_type": "execute_result"
    },
    {
     "data": {
      "image/png": "[encoded data removed]",
      "text/plain": [
       "<Figure size 1080x360 with 1 Axes>"
      ]
     },
     "metadata": {
      "needs_background": "light"
     },
     "output_type": "display_data"
    }
   ],
   "source": [
    "training_accuracy = []\n",
    "val_accuracy = []\n",
    "training_f1 = []\n",
    "val_f1 = []\n",
    "tree_depths = []\n",
    "\n",
    "for depth in range(1,20):\n",
    "    tree_clf = DecisionTreeClassifier(max_depth=depth)\n",
    "    tree_clf.fit(x_train,y_train)\n",
    "    y_training_pred = tree_clf.predict(x_train)\n",
    "\n",
    "    training_acc = accuracy_score(y_train,y_training_pred)\n",
    "    train_f1 = f1_score(y_train,y_training_pred)\n",
    "    val_mean_f1 = cross_val_score(tree_clf,x_train,y_train,cv=5,scoring='f1_macro').mean()\n",
    "    val_mean_accuracy = cross_val_score(tree_clf,x_train,y_train,cv=5,scoring='accuracy').mean()\n",
    "    \n",
    "    training_accuracy.append(training_acc)\n",
    "    val_accuracy.append(val_mean_accuracy)\n",
    "    training_f1.append(train_f1)\n",
    "    val_f1.append(val_mean_f1)\n",
    "    tree_depths.append(depth)\n",
    "    \n",
    "\n",
    "Tuning_Max_depth = {\"Training Accuracy\": training_accuracy, \"Validation Accuracy\": val_accuracy, \"Training F1\": training_f1, \"Validation F1\":val_f1, \"Max_Depth\": tree_depths }\n",
    "Tuning_Max_depth_df = pd.DataFrame.from_dict(Tuning_Max_depth)\n",
    "\n",
    "plot_df = Tuning_Max_depth_df.melt('Max_Depth',var_name='Metrics',value_name=\"Values\")\n",
    "fig,ax = plt.subplots(figsize=(15,5))\n",
    "sns.pointplot(x=\"Max_Depth\", y=\"Values\",hue=\"Metrics\", data=plot_df,ax=ax)"
   ]
  },
  {
   "cell_type": "markdown",
   "metadata": {},
   "source": [
    "### Tree Representation"
   ]
  },
  {
   "cell_type": "code",
   "execution_count": 90,
   "metadata": {},
   "outputs": [
    {
     "data": {
      "image/svg+xml": [
       "<?xml version=\"1.0\" encoding=\"UTF-8\" standalone=\"no\"?>\n",
       "<!DOCTYPE svg PUBLIC \"-//W3C//DTD SVG 1.1//EN\"\n",
       " \"http://www.w3.org/Graphics/SVG/1.1/DTD/svg11.dtd\">\n",
       "<!-- Generated by graphviz version 2.43.0 (0)\n",
       " -->\n",
       "<!-- Title: Tree Pages: 1 -->\n",
       "<svg width=\"397pt\" height=\"269pt\"\n",
       " viewBox=\"0.00 0.00 396.50 269.00\" xmlns=\"http://www.w3.org/2000/svg\" xmlns:xlink=\"http://www.w3.org/1999/xlink\">\n",
       "<g id=\"graph0\" class=\"graph\" transform=\"scale(1 1) rotate(0) translate(4 265)\">\n",
       "<title>Tree</title>\n",
       "<polygon fill=\"white\" stroke=\"transparent\" points=\"-4,4 -4,-265 392.5,-265 392.5,4 -4,4\"/>\n",
       "<!-- 0 -->\n",
       "<g id=\"node1\" class=\"node\">\n",
       "<title>0</title>\n",
       "<polygon fill=\"none\" stroke=\"black\" points=\"249.5,-261 64.5,-261 64.5,-193 249.5,-193 249.5,-261\"/>\n",
       "<text text-anchor=\"middle\" x=\"157\" y=\"-245.8\" font-family=\"Times,serif\" font-size=\"14.00\">Credit Score &lt;= &#45;0.415</text>\n",
       "<text text-anchor=\"middle\" x=\"157\" y=\"-230.8\" font-family=\"Times,serif\" font-size=\"14.00\">gini = 0.374</text>\n",
       "<text text-anchor=\"middle\" x=\"157\" y=\"-215.8\" font-family=\"Times,serif\" font-size=\"14.00\">samples = 15154</text>\n",
       "<text text-anchor=\"middle\" x=\"157\" y=\"-200.8\" font-family=\"Times,serif\" font-size=\"14.00\">value = [3779, 11375]</text>\n",
       "</g>\n",
       "<!-- 1 -->\n",
       "<g id=\"node2\" class=\"node\">\n",
       "<title>1</title>\n",
       "<polygon fill=\"none\" stroke=\"black\" points=\"140,-149.5 0,-149.5 0,-96.5 140,-96.5 140,-149.5\"/>\n",
       "<text text-anchor=\"middle\" x=\"70\" y=\"-134.3\" font-family=\"Times,serif\" font-size=\"14.00\">gini = 0.0</text>\n",
       "<text text-anchor=\"middle\" x=\"70\" y=\"-119.3\" font-family=\"Times,serif\" font-size=\"14.00\">samples = 2801</text>\n",
       "<text text-anchor=\"middle\" x=\"70\" y=\"-104.3\" font-family=\"Times,serif\" font-size=\"14.00\">value = [2801, 0]</text>\n",
       "</g>\n",
       "<!-- 0&#45;&gt;1 -->\n",
       "<g id=\"edge1\" class=\"edge\">\n",
       "<title>0&#45;&gt;1</title>\n",
       "<path fill=\"none\" stroke=\"black\" d=\"M128.75,-192.88C119,-181.45 108.07,-168.63 98.31,-157.19\"/>\n",
       "<polygon fill=\"black\" stroke=\"black\" points=\"100.92,-154.86 91.77,-149.52 95.59,-159.4 100.92,-154.86\"/>\n",
       "<text text-anchor=\"middle\" x=\"89.79\" y=\"-170.74\" font-family=\"Times,serif\" font-size=\"14.00\">True</text>\n",
       "</g>\n",
       "<!-- 2 -->\n",
       "<g id=\"node3\" class=\"node\">\n",
       "<title>2</title>\n",
       "<polygon fill=\"none\" stroke=\"black\" points=\"329.5,-157 158.5,-157 158.5,-89 329.5,-89 329.5,-157\"/>\n",
       "<text text-anchor=\"middle\" x=\"244\" y=\"-141.8\" font-family=\"Times,serif\" font-size=\"14.00\">Credit Score &lt;= 1.41</text>\n",
       "<text text-anchor=\"middle\" x=\"244\" y=\"-126.8\" font-family=\"Times,serif\" font-size=\"14.00\">gini = 0.146</text>\n",
       "<text text-anchor=\"middle\" x=\"244\" y=\"-111.8\" font-family=\"Times,serif\" font-size=\"14.00\">samples = 12353</text>\n",
       "<text text-anchor=\"middle\" x=\"244\" y=\"-96.8\" font-family=\"Times,serif\" font-size=\"14.00\">value = [978, 11375]</text>\n",
       "</g>\n",
       "<!-- 0&#45;&gt;2 -->\n",
       "<g id=\"edge2\" class=\"edge\">\n",
       "<title>0&#45;&gt;2</title>\n",
       "<path fill=\"none\" stroke=\"black\" d=\"M185.25,-192.88C192.84,-183.98 201.15,-174.24 209.07,-164.96\"/>\n",
       "<polygon fill=\"black\" stroke=\"black\" points=\"211.77,-167.18 215.6,-157.3 206.45,-162.64 211.77,-167.18\"/>\n",
       "<text text-anchor=\"middle\" x=\"217.58\" y=\"-178.52\" font-family=\"Times,serif\" font-size=\"14.00\">False</text>\n",
       "</g>\n",
       "<!-- 3 -->\n",
       "<g id=\"node4\" class=\"node\">\n",
       "<title>3</title>\n",
       "<polygon fill=\"none\" stroke=\"black\" points=\"239.5,-53 90.5,-53 90.5,0 239.5,0 239.5,-53\"/>\n",
       "<text text-anchor=\"middle\" x=\"165\" y=\"-37.8\" font-family=\"Times,serif\" font-size=\"14.00\">gini = 0.0</text>\n",
       "<text text-anchor=\"middle\" x=\"165\" y=\"-22.8\" font-family=\"Times,serif\" font-size=\"14.00\">samples = 11375</text>\n",
       "<text text-anchor=\"middle\" x=\"165\" y=\"-7.8\" font-family=\"Times,serif\" font-size=\"14.00\">value = [0, 11375]</text>\n",
       "</g>\n",
       "<!-- 2&#45;&gt;3 -->\n",
       "<g id=\"edge3\" class=\"edge\">\n",
       "<title>2&#45;&gt;3</title>\n",
       "<path fill=\"none\" stroke=\"black\" d=\"M216.37,-88.95C208.8,-79.89 200.59,-70.07 192.99,-60.99\"/>\n",
       "<polygon fill=\"black\" stroke=\"black\" points=\"195.61,-58.66 186.52,-53.24 190.24,-63.15 195.61,-58.66\"/>\n",
       "</g>\n",
       "<!-- 4 -->\n",
       "<g id=\"node5\" class=\"node\">\n",
       "<title>4</title>\n",
       "<polygon fill=\"none\" stroke=\"black\" points=\"388.5,-53 257.5,-53 257.5,0 388.5,0 388.5,-53\"/>\n",
       "<text text-anchor=\"middle\" x=\"323\" y=\"-37.8\" font-family=\"Times,serif\" font-size=\"14.00\">gini = 0.0</text>\n",
       "<text text-anchor=\"middle\" x=\"323\" y=\"-22.8\" font-family=\"Times,serif\" font-size=\"14.00\">samples = 978</text>\n",
       "<text text-anchor=\"middle\" x=\"323\" y=\"-7.8\" font-family=\"Times,serif\" font-size=\"14.00\">value = [978, 0]</text>\n",
       "</g>\n",
       "<!-- 2&#45;&gt;4 -->\n",
       "<g id=\"edge4\" class=\"edge\">\n",
       "<title>2&#45;&gt;4</title>\n",
       "<path fill=\"none\" stroke=\"black\" d=\"M271.63,-88.95C279.2,-79.89 287.41,-70.07 295.01,-60.99\"/>\n",
       "<polygon fill=\"black\" stroke=\"black\" points=\"297.76,-63.15 301.48,-53.24 292.39,-58.66 297.76,-63.15\"/>\n",
       "</g>\n",
       "</g>\n",
       "</svg>\n"
      ],
      "text/plain": [
       "<graphviz.files.Source at 0x7fd048e55e90>"
      ]
     },
     "execution_count": 90,
     "metadata": {},
     "output_type": "execute_result"
    }
   ],
   "source": [
    "import graphviz \n",
    "from sklearn import tree\n",
    "\n",
    "tree_clf = tree.DecisionTreeClassifier(max_depth = 4)\n",
    "tree_clf.fit(x_train,y_train)\n",
    "dot_data = tree.export_graphviz(tree_clf,feature_names = x_train.columns.tolist())\n",
    "graph = graphviz.Source(dot_data)\n",
    "graph"
   ]
  },
  {
   "cell_type": "markdown",
   "metadata": {},
   "source": [
    "### Random Forest Classifier"
   ]
  },
  {
   "cell_type": "code",
   "execution_count": 91,
   "metadata": {},
   "outputs": [
    {
     "name": "stdout",
     "output_type": "stream",
     "text": [
      "Train F1 Score  0.9599561162918268\n",
      "Train Accuracy  0.9373762702916721\n",
      "Validation Mean F1 Score:  0.929476208171222\n",
      "Validation Mean Accuracy:  0.9460206687115429\n"
     ]
    }
   ],
   "source": [
    "from sklearn.ensemble import RandomForestClassifier\n",
    "\n",
    "rf_clf = RandomForestClassifier(n_estimators=100,max_depth=3,min_samples_leaf = 10)\n",
    "rf_clf.fit(x_train,y_train)\n",
    "y_pred = rf_clf.predict(x_train)\n",
    "print(\"Train F1 Score \", f1_score(y_train,y_pred))\n",
    "print(\"Train Accuracy \", accuracy_score(y_train,y_pred))\n",
    "\n",
    "print(\"Validation Mean F1 Score: \",cross_val_score(rf_clf,x_train,y_train,cv=5,scoring='f1_macro').mean())\n",
    "print(\"Validation Mean Accuracy: \",cross_val_score(rf_clf,x_train,y_train,cv=5,scoring='accuracy').mean())"
   ]
  },
  {
   "cell_type": "code",
   "execution_count": 92,
   "metadata": {},
   "outputs": [],
   "source": [
    "y_pred_log = rf_clf.predict(x_test)"
   ]
  },
  {
   "cell_type": "markdown",
   "metadata": {},
   "source": [
    "### ROC Curve"
   ]
  },
  {
   "cell_type": "code",
   "execution_count": 93,
   "metadata": {},
   "outputs": [
    {
     "data": {
      "image/png": "[encoded data removed]",
      "text/plain": [
       "<Figure size 1080x360 with 1 Axes>"
      ]
     },
     "metadata": {
      "needs_background": "light"
     },
     "output_type": "display_data"
    }
   ],
   "source": [
    "from sklearn import metrics\n",
    "plt.figure(figsize=(15,5))\n",
    "y_pred_proba = rf_clf.predict_proba(x_test)[::,1]\n",
    "fpr, tpr, _ = metrics.roc_curve(y_test,  y_pred_proba)\n",
    "auc = metrics.roc_auc_score(y_test, y_pred_proba)\n",
    "plt.plot(fpr,tpr,label=\"data 1, auc=\"+str(auc))\n",
    "plt.legend(loc=4)\n",
    "plt.grid(alpha=0.4)\n",
    "plt.show()"
   ]
  },
  {
   "cell_type": "markdown",
   "metadata": {},
   "source": [
    "### AUC Curve"
   ]
  },
  {
   "cell_type": "code",
   "execution_count": 94,
   "metadata": {},
   "outputs": [
    {
     "data": {
      "image/png": "[encoded data removed]",
      "text/plain": [
       "<Figure size 1080x360 with 1 Axes>"
      ]
     },
     "metadata": {
      "needs_background": "light"
     },
     "output_type": "display_data"
    }
   ],
   "source": [
    "from plot_metric.functions import BinaryClassification\n",
    "plt.figure(figsize=(15,5))\n",
    "# Visualisation with plot_metric\n",
    "bc = BinaryClassification(y_test, y_pred_log, labels=[\"Class 1\", \"Class 2\"])\n",
    "\n",
    "# Figures\n",
    "bc.plot_roc_curve()\n",
    "plt.grid(alpha=0.4)\n",
    "plt.show()"
   ]
  },
  {
   "cell_type": "code",
   "execution_count": null,
   "metadata": {},
   "outputs": [],
   "source": []
  }
 ],
 "metadata": {
  "kernelspec": {
   "display_name": "Python 3",
   "language": "python",
   "name": "python3"
  },
  "language_info": {
   "codemirror_mode": {
    "name": "ipython",
    "version": 3
   },
   "file_extension": ".py",
   "mimetype": "text/x-python",
   "name": "python",
   "nbconvert_exporter": "python",
   "pygments_lexer": "ipython3",
   "version": "3.7.6"
  }
 },
 "nbformat": 4,
 "nbformat_minor": 4
}
